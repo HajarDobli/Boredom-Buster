{
  "nbformat": 4,
  "nbformat_minor": 0,
  "metadata": {
    "colab": {
      "provenance": [],
      "authorship_tag": "ABX9TyPKLtQfk/A9bjuCpuqXrZ6i",
      "include_colab_link": true
    },
    "kernelspec": {
      "name": "python3",
      "display_name": "Python 3"
    },
    "language_info": {
      "name": "python"
    }
  },
  "cells": [
    {
      "cell_type": "markdown",
      "metadata": {
        "id": "view-in-github",
        "colab_type": "text"
      },
      "source": [
        "<a href=\"https://colab.research.google.com/github/HajarDobli/Boredom-Buster/blob/main/Untitled0.ipynb\" target=\"_parent\"><img src=\"https://colab.research.google.com/assets/colab-badge.svg\" alt=\"Open In Colab\"/></a>"
      ]
    },
    {
      "cell_type": "code",
      "execution_count": 1,
      "metadata": {
        "id": "P7EllBlfPIGf"
      },
      "outputs": [],
      "source": [
        "import pandas as pd"
      ]
    },
    {
      "cell_type": "code",
      "source": [
        "import nltk"
      ],
      "metadata": {
        "id": "ZOngYwyiSnPi"
      },
      "execution_count": 13,
      "outputs": []
    },
    {
      "cell_type": "code",
      "source": [
        "nltk.download('stopwords')"
      ],
      "metadata": {
        "colab": {
          "base_uri": "https://localhost:8080/"
        },
        "id": "V9xHpLQqSuug",
        "outputId": "2a8598c5-6fcb-418d-9d41-dd0022142f12"
      },
      "execution_count": 14,
      "outputs": [
        {
          "output_type": "stream",
          "name": "stderr",
          "text": [
            "[nltk_data] Downloading package stopwords to /root/nltk_data...\n",
            "[nltk_data]   Unzipping corpora/stopwords.zip.\n"
          ]
        },
        {
          "output_type": "execute_result",
          "data": {
            "text/plain": [
              "True"
            ]
          },
          "metadata": {},
          "execution_count": 14
        }
      ]
    },
    {
      "cell_type": "code",
      "source": [
        "nltk.download('punkt')"
      ],
      "metadata": {
        "colab": {
          "base_uri": "https://localhost:8080/"
        },
        "id": "mY_0A4bWS1q1",
        "outputId": "3112077d-9b31-48bf-cd76-371ac78793b4"
      },
      "execution_count": 16,
      "outputs": [
        {
          "output_type": "stream",
          "name": "stderr",
          "text": [
            "[nltk_data] Downloading package punkt to /root/nltk_data...\n",
            "[nltk_data]   Unzipping tokenizers/punkt.zip.\n"
          ]
        },
        {
          "output_type": "execute_result",
          "data": {
            "text/plain": [
              "True"
            ]
          },
          "metadata": {},
          "execution_count": 16
        }
      ]
    },
    {
      "cell_type": "code",
      "source": [
        "from nltk.corpus import stopwords\n"
      ],
      "metadata": {
        "id": "oRYREDPnP77_"
      },
      "execution_count": 2,
      "outputs": []
    },
    {
      "cell_type": "code",
      "source": [
        "from nltk.tokenize import word_tokenize\n"
      ],
      "metadata": {
        "id": "5IlMg2znP-Yv"
      },
      "execution_count": 3,
      "outputs": []
    },
    {
      "cell_type": "code",
      "source": [
        "import re"
      ],
      "metadata": {
        "id": "Cz2FNchNP-cb"
      },
      "execution_count": 4,
      "outputs": []
    },
    {
      "cell_type": "code",
      "source": [
        "df = pd.read_csv(\"sample.csv\")\n"
      ],
      "metadata": {
        "id": "u_RYVl_dQDgZ"
      },
      "execution_count": 7,
      "outputs": []
    },
    {
      "cell_type": "code",
      "source": [
        "print(df.head())\n"
      ],
      "metadata": {
        "colab": {
          "base_uri": "https://localhost:8080/"
        },
        "id": "VrhZYGvHRhWK",
        "outputId": "8c999b56-fcc2-4e18-f78d-53ddf590e4a0"
      },
      "execution_count": 8,
      "outputs": [
        {
          "output_type": "stream",
          "name": "stdout",
          "text": [
            "   tweet_id     author_id  inbound                      created_at  \\\n",
            "0    119237        105834     True  Wed Oct 11 06:55:44 +0000 2017   \n",
            "1    119238  ChaseSupport    False  Wed Oct 11 13:25:49 +0000 2017   \n",
            "2    119239        105835     True  Wed Oct 11 13:00:09 +0000 2017   \n",
            "3    119240  VirginTrains    False  Tue Oct 10 15:16:08 +0000 2017   \n",
            "4    119241        105836     True  Tue Oct 10 15:17:21 +0000 2017   \n",
            "\n",
            "                                                text response_tweet_id  \\\n",
            "0  @AppleSupport causing the reply to be disregar...            119236   \n",
            "1  @105835 Your business means a lot to us. Pleas...               NaN   \n",
            "2  @76328 I really hope you all change but I'm su...            119238   \n",
            "3  @105836 LiveChat is online at the moment - htt...            119241   \n",
            "4  @VirginTrains see attached error message. I've...            119243   \n",
            "\n",
            "   in_response_to_tweet_id  \n",
            "0                      NaN  \n",
            "1                 119239.0  \n",
            "2                      NaN  \n",
            "3                 119242.0  \n",
            "4                 119240.0  \n"
          ]
        }
      ]
    },
    {
      "cell_type": "code",
      "source": [
        "def clean_text(text):\n",
        "    text = text.lower()\n",
        "    text = re.sub(r'[^\\w\\s]', '', text)\n",
        "    stop_words = set(stopwords.words('english'))\n",
        "    words = word_tokenize(text)\n",
        "    words = [word for word in words if word not in stop_words]\n",
        "    return ' '.join(words)"
      ],
      "metadata": {
        "id": "sQglM3Y-Rmqm"
      },
      "execution_count": 9,
      "outputs": []
    },
    {
      "cell_type": "code",
      "source": [
        "df['text_cleaned'] = df['text'].apply(clean_text)\n"
      ],
      "metadata": {
        "id": "1NW5Pbp1Rsnp"
      },
      "execution_count": 17,
      "outputs": []
    },
    {
      "cell_type": "code",
      "source": [
        "print(df[['tweet_id', 'text', 'text_cleaned']])\n"
      ],
      "metadata": {
        "colab": {
          "base_uri": "https://localhost:8080/"
        },
        "id": "gCorniPlSsXD",
        "outputId": "63a6d06b-ce15-45c6-b2d3-5f475879c9e3"
      },
      "execution_count": 18,
      "outputs": [
        {
          "output_type": "stream",
          "name": "stdout",
          "text": [
            "    tweet_id                                               text  \\\n",
            "0     119237  @AppleSupport causing the reply to be disregar...   \n",
            "1     119238  @105835 Your business means a lot to us. Pleas...   \n",
            "2     119239  @76328 I really hope you all change but I'm su...   \n",
            "3     119240  @105836 LiveChat is online at the moment - htt...   \n",
            "4     119241  @VirginTrains see attached error message. I've...   \n",
            "..       ...                                                ...   \n",
            "88    119330  @105860 I wish Amazon had an option of where I...   \n",
            "89    119331  They reschedule my shit for tomorrow https://t...   \n",
            "90    119332  @105861 Hey Sara, sorry to hear of the issues ...   \n",
            "91    119333  @Tesco bit of both - finding the layout cumber...   \n",
            "92    119335  @105861 If that doesn't help please DM your fu...   \n",
            "\n",
            "                                         text_cleaned  \n",
            "0   applesupport causing reply disregarded tapped ...  \n",
            "1   105835 business means lot us please dm name zi...  \n",
            "2          76328 really hope change im sure wont dont  \n",
            "3   105836 livechat online moment httpstcosy94vtu8...  \n",
            "4   virgintrains see attached error message ive tr...  \n",
            "..                                                ...  \n",
            "88  105860 wish amazon option get shipped ups stor...  \n",
            "89        reschedule shit tomorrow httpstcorsvzct982t  \n",
            "90  105861 hey sara sorry hear issues ask lay spee...  \n",
            "91  tesco bit finding layout cumbersome removing i...  \n",
            "92  105861 doesnt help please dm full name address...  \n",
            "\n",
            "[93 rows x 3 columns]\n"
          ]
        }
      ]
    },
    {
      "cell_type": "code",
      "source": [],
      "metadata": {
        "id": "Tb29UPAySsp1"
      },
      "execution_count": null,
      "outputs": []
    }
  ]
}